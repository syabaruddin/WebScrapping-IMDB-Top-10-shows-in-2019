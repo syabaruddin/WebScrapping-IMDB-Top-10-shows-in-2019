{
 "cells": [
  {
   "cell_type": "markdown",
   "metadata": {},
   "source": [
    "# IMDB Webscrapping Project\n",
    "\n",
    "\n",
    "\n",
    "IMDB web Top 10 Shows in 2019\n",
    "\n",
    "## Requesting the Data\n",
    "\n",
    "Let's begin with requesting the web from the site with `get` method."
   ]
  },
  {
   "cell_type": "code",
   "execution_count": 2,
   "metadata": {
    "ExecuteTime": {
     "end_time": "2021-03-06T06:58:05.543561Z",
     "start_time": "2021-03-06T06:58:03.497722Z"
    }
   },
   "outputs": [],
   "source": [
    "import requests\n",
    "\n",
    "url_get = requests.get('https://www.imdb.com/search/title/?release_date=2019-01-01,2019-12-31')"
   ]
  },
  {
   "cell_type": "markdown",
   "metadata": {},
   "source": [
    "To visualize what exactly you get from the `request.get`, we can use .content so ee what we exactly get, in here i slice it so it won't make our screen full of the html we get from the page. You can delete the slicing if you want to see what we fully get."
   ]
  },
  {
   "cell_type": "code",
   "execution_count": 3,
   "metadata": {
    "ExecuteTime": {
     "end_time": "2021-03-06T06:58:05.589451Z",
     "start_time": "2021-03-06T06:58:05.543561Z"
    }
   },
   "outputs": [
    {
     "data": {
      "text/plain": [
       "b'\\n<!DOCTYPE html>\\n<html\\n    xmlns:og=\"http://ogp.me/ns#\"\\n    xmlns:fb=\"http://www.facebook.com/2008/fbml\">\\n    <head>\\n         \\n        <meta charset=\"utf-8\">\\n        <meta http-equiv=\"X-UA-Compatible\" content=\"IE=edge\">\\n\\n    <meta name=\"apple-itunes-app\" content=\"app-id=342792525, app-argument=imdb:///?src=mdot\">\\n\\n\\n\\n        <script type=\"text/javascript\">var IMDbTimer={starttime: new Date().getTime(),pt:\\'java\\'};</script>\\n\\n<script>\\n    if (typeof uet == \\'function\\') {\\n      uet(\"bb\", \"LoadTitle\", {wb: 1});\\n    }\\n</script>\\n  <script>(function(t){ (t.events = t.events || {})[\"csm_head_pre_title\"] = new Date().getTime(); })(IMDbTimer);</script>\\n        <title>Released between 2019-01-01 and 2019-12-31\\n(Sorted by Popularity Ascending) - IMDb</title>\\n  <script>(function(t)'"
      ]
     },
     "execution_count": 3,
     "metadata": {},
     "output_type": "execute_result"
    }
   ],
   "source": [
    "url_get.content[1:777]"
   ]
  },
  {
   "cell_type": "markdown",
   "metadata": {},
   "source": [
    "As we can see we get a very unstructured and complex html, which actually contains the codes needed to show the webpages on your web browser. But we as human still confused what and where we can use that piece of code, so here where we use the beautifulsoup. Beautiful soup class will result a beautifulsoup object. Beautiful Soup transforms a complex HTML document into a complex tree of Python objects. \n",
    "\n",
    "Let's make Beautiful soup object and feel free to explore the object here."
   ]
  },
  {
   "cell_type": "code",
   "execution_count": 4,
   "metadata": {
    "ExecuteTime": {
     "end_time": "2021-03-06T06:58:06.118308Z",
     "start_time": "2021-03-06T06:58:05.597444Z"
    }
   },
   "outputs": [
    {
     "name": "stdout",
     "output_type": "stream",
     "text": [
      "<class 'bs4.BeautifulSoup'>\n"
     ]
    }
   ],
   "source": [
    "from bs4 import BeautifulSoup \n",
    "\n",
    "soup = BeautifulSoup(url_get.content,\"html.parser\")\n",
    "print(type(soup))"
   ]
  },
  {
   "cell_type": "markdown",
   "metadata": {},
   "source": [
    "## Finding the right key to scrap the data & Extracting the right information"
   ]
  },
  {
   "cell_type": "markdown",
   "metadata": {},
   "source": [
    "Find the key and put the key into the `.find()` Put all the exploring the right key at this cell. After we inspect the data table in the website, we found that the key is 'table' and the class is 'table table-striped table-hover table-hover-solid-row table-simple history-data'"
   ]
  },
  {
   "cell_type": "code",
   "execution_count": 5,
   "metadata": {
    "ExecuteTime": {
     "end_time": "2021-03-06T06:58:06.254249Z",
     "start_time": "2021-03-06T06:58:06.118308Z"
    }
   },
   "outputs": [
    {
     "name": "stdout",
     "output_type": "stream",
     "text": [
      "div class=\"lister-list\">\n",
      " <div class=\"lister-item mode-advanced\">\n",
      "  <div class=\"lister-top-right\">\n",
      "   <div class=\"ribbonize\" data-caller=\"filmosearch\" data-tconst=\"tt8111088\">\n",
      "   </div>\n",
      "  </div>\n",
      "  <div class=\"lister-item-image float-left\">\n",
      "   <a href=\"/title/tt8111088/\">\n",
      "    <img alt=\"The Mandalorian\" class=\"loadlate\" data-tconst=\"tt8111088\" height=\"98\" loadlate=\"https://m.media-amazon.com/images/M/MV5BZDhlMzY0ZGItZTcyNS00ZTAxLWIyMmYtZGQ2ODg5OWZiYmJkXkEyXkFqcGdeQXVyODkzNTgxMDg@._V1_UX67_CR0,0,6\n"
     ]
    }
   ],
   "source": [
    "table = soup.find('div',attrs={'lister-list'})\n",
    "print(table.prettify()[1:500])"
   ]
  },
  {
   "cell_type": "code",
   "execution_count": 6,
   "metadata": {
    "ExecuteTime": {
     "end_time": "2021-03-06T06:58:06.302208Z",
     "start_time": "2021-03-06T06:58:06.254249Z"
    }
   },
   "outputs": [],
   "source": [
    "tr = table.find_all('div',attrs={'lister-item-content'})"
   ]
  },
  {
   "cell_type": "code",
   "execution_count": 7,
   "metadata": {
    "ExecuteTime": {
     "end_time": "2021-03-06T06:58:06.318173Z",
     "start_time": "2021-03-06T06:58:06.302208Z"
    }
   },
   "outputs": [
    {
     "data": {
      "text/plain": [
       "50"
      ]
     },
     "execution_count": 7,
     "metadata": {},
     "output_type": "execute_result"
    }
   ],
   "source": [
    "len(tr)"
   ]
  },
  {
   "cell_type": "code",
   "execution_count": 8,
   "metadata": {
    "ExecuteTime": {
     "end_time": "2021-03-06T06:58:07.151780Z",
     "start_time": "2021-03-06T06:58:06.318173Z"
    }
   },
   "outputs": [
    {
     "data": {
      "text/plain": [
       "[('The Mandalorian', '8.8', 0, '296,248'),\n",
       " ('For All Mankind', '7.7', 0, '13,806'),\n",
       " ('The Boys', '8.7', 0, '251,306'),\n",
       " ('Avengers: Endgame', '8.4', '78', '826,727'),\n",
       " ('The Witcher', '8.2', 0, '303,118'),\n",
       " ('Servant', '7.6', 0, '20,217'),\n",
       " ('Captain Marvel', '6.9', '64', '452,154'),\n",
       " ('Sound of Metal', '7.8', '82', '36,942'),\n",
       " ('Euphoria', '8.4', 0, '66,204'),\n",
       " ('Gisaengchung', '8.6', '96', '570,768'),\n",
       " ('Once Upon a Time... in Hollywood', '7.6', '83', '561,668'),\n",
       " ('Batwoman', '3.4', 0, '32,800'),\n",
       " ('The Bay', '7.0', 0, '4,168'),\n",
       " ('Knives Out', '7.9', '82', '467,431'),\n",
       " ('Sex Education', '8.3', 0, '160,224'),\n",
       " ('The Gentlemen', '7.8', 0, '247,642'),\n",
       " ('ZeroZeroZero', '8.2', 0, '15,146'),\n",
       " ('Joker', '8.4', 0, '956,987'),\n",
       " ('Capitani', '6.7', 0, '1,915'),\n",
       " ('Virgin River', '7.5', 0, '20,539'),\n",
       " ('Chernobyl', '9.4', 0, '547,993'),\n",
       " ('The Morning Show', '8.4', 0, '53,039'),\n",
       " ('Midsommar', '7.1', '72', '205,955'),\n",
       " ('Prodigal Son', '7.7', 0, '13,302'),\n",
       " ('1917', '8.3', '78', '438,483'),\n",
       " ('His Dark Materials', '7.9', 0, '52,606'),\n",
       " ('Spider-Man: Far from Home', '7.5', '69', '329,868'),\n",
       " ('Demon Slayer: Kimetsu No Yaiba', '8.7', 0, '29,658'),\n",
       " ('After', '5.3', 0, '39,586'),\n",
       " ('Warrior', '8.3', 0, '17,646'),\n",
       " ('Gemini Man', '5.7', 0, '88,913'),\n",
       " ('Doom Patrol', '7.9', 0, '34,733'),\n",
       " ('Yakusoku no Neverland', '8.7', 0, '22,492'),\n",
       " ('Jojo Rabbit', '7.9', 0, '304,865'),\n",
       " ('Bombshell', '6.8', '64', '92,398'),\n",
       " ('Saint Maud', '6.8', '83', '10,875'),\n",
       " ('Good Trouble', '7.5', 0, '4,151'),\n",
       " ('Dickinson', '7.3', 0, '6,497'),\n",
       " ('Star Wars: Episode IX - The Rise of Skywalker', '6.6', 0, '379,195'),\n",
       " ('Doctor Sleep', '7.3', 0, '146,657'),\n",
       " ('Little Women', '7.8', '91', '146,948'),\n",
       " ('Watchmen', '8.1', 0, '92,640'),\n",
       " ('The Lighthouse', '7.5', '83', '146,608'),\n",
       " ('Yesterday', '6.8', 0, '116,157'),\n",
       " ('Uncut Gems', '7.4', '91', '225,023'),\n",
       " ('The Irishman', '7.9', '94', '329,307'),\n",
       " ('Godzilla: King of the Monsters', '6.0', 0, '139,584'),\n",
       " ('Dark Phoenix', '5.7', 0, '158,184'),\n",
       " ('Ford v Ferrari', '8.1', '81', '298,299'),\n",
       " ('See', '7.6', 0, '42,486')]"
      ]
     },
     "execution_count": 8,
     "metadata": {},
     "output_type": "execute_result"
    }
   ],
   "source": [
    "#Data scrapping starts from here:\n",
    "\n",
    "temp = [] #initiating a tuple f\n",
    "\n",
    "for i in range(0,len(tr)):\n",
    "    row = table.find_all('div',attrs={'class':'lister-item-content'})[i]\n",
    "\n",
    "    #get Judul\n",
    "    judul = row.find('h3')\n",
    "    judul = judul.find('a').text\n",
    "    judul = judul.strip()\n",
    "    \n",
    "    #get imdbrating\n",
    "    imdbrating = row.find('div',attrs={'class':'inline-block ratings-imdb-rating'}).text\n",
    "    imdbrating = imdbrating.strip()\n",
    "    \n",
    "    #get imdbrating\n",
    "    imdbrating = row.find('div',attrs={'class':'inline-block ratings-imdb-rating'}).text\n",
    "    imdbrating = imdbrating.strip()  \n",
    "    \n",
    "    #get metascore\n",
    "    try :\n",
    "        metascore = row.find('span',attrs={'class':'metascore favorable'}).text\n",
    "        metascore = metascore.strip()\n",
    "    \n",
    "    except :\n",
    "        metascore = 0\n",
    "        \n",
    "    #get votes\n",
    "    votes = row.find('span',attrs={'name':'nv'}).text\n",
    "    votes = votes.strip()\n",
    "    \n",
    "    \n",
    "    temp.append((judul,imdbrating,metascore,votes))\n",
    "\n",
    "    \n",
    "temp"
   ]
  },
  {
   "cell_type": "markdown",
   "metadata": {},
   "source": [
    "## Creating data frame & Data wrangling"
   ]
  },
  {
   "cell_type": "code",
   "execution_count": 9,
   "metadata": {
    "ExecuteTime": {
     "end_time": "2021-03-06T06:58:08.668267Z",
     "start_time": "2021-03-06T06:58:07.151780Z"
    },
    "scrolled": true
   },
   "outputs": [
    {
     "data": {
      "text/html": [
       "<div>\n",
       "<style scoped>\n",
       "    .dataframe tbody tr th:only-of-type {\n",
       "        vertical-align: middle;\n",
       "    }\n",
       "\n",
       "    .dataframe tbody tr th {\n",
       "        vertical-align: top;\n",
       "    }\n",
       "\n",
       "    .dataframe thead th {\n",
       "        text-align: right;\n",
       "    }\n",
       "</style>\n",
       "<table border=\"1\" class=\"dataframe\">\n",
       "  <thead>\n",
       "    <tr style=\"text-align: right;\">\n",
       "      <th></th>\n",
       "      <th>judul</th>\n",
       "      <th>imdbrating</th>\n",
       "      <th>metascore</th>\n",
       "      <th>votes</th>\n",
       "    </tr>\n",
       "  </thead>\n",
       "  <tbody>\n",
       "    <tr>\n",
       "      <th>0</th>\n",
       "      <td>The Mandalorian</td>\n",
       "      <td>8.8</td>\n",
       "      <td>0</td>\n",
       "      <td>296,248</td>\n",
       "    </tr>\n",
       "    <tr>\n",
       "      <th>1</th>\n",
       "      <td>For All Mankind</td>\n",
       "      <td>7.7</td>\n",
       "      <td>0</td>\n",
       "      <td>13,806</td>\n",
       "    </tr>\n",
       "    <tr>\n",
       "      <th>2</th>\n",
       "      <td>The Boys</td>\n",
       "      <td>8.7</td>\n",
       "      <td>0</td>\n",
       "      <td>251,306</td>\n",
       "    </tr>\n",
       "    <tr>\n",
       "      <th>3</th>\n",
       "      <td>Avengers: Endgame</td>\n",
       "      <td>8.4</td>\n",
       "      <td>78</td>\n",
       "      <td>826,727</td>\n",
       "    </tr>\n",
       "    <tr>\n",
       "      <th>4</th>\n",
       "      <td>The Witcher</td>\n",
       "      <td>8.2</td>\n",
       "      <td>0</td>\n",
       "      <td>303,118</td>\n",
       "    </tr>\n",
       "    <tr>\n",
       "      <th>5</th>\n",
       "      <td>Servant</td>\n",
       "      <td>7.6</td>\n",
       "      <td>0</td>\n",
       "      <td>20,217</td>\n",
       "    </tr>\n",
       "    <tr>\n",
       "      <th>6</th>\n",
       "      <td>Captain Marvel</td>\n",
       "      <td>6.9</td>\n",
       "      <td>64</td>\n",
       "      <td>452,154</td>\n",
       "    </tr>\n",
       "    <tr>\n",
       "      <th>7</th>\n",
       "      <td>Sound of Metal</td>\n",
       "      <td>7.8</td>\n",
       "      <td>82</td>\n",
       "      <td>36,942</td>\n",
       "    </tr>\n",
       "    <tr>\n",
       "      <th>8</th>\n",
       "      <td>Euphoria</td>\n",
       "      <td>8.4</td>\n",
       "      <td>0</td>\n",
       "      <td>66,204</td>\n",
       "    </tr>\n",
       "    <tr>\n",
       "      <th>9</th>\n",
       "      <td>Gisaengchung</td>\n",
       "      <td>8.6</td>\n",
       "      <td>96</td>\n",
       "      <td>570,768</td>\n",
       "    </tr>\n",
       "    <tr>\n",
       "      <th>10</th>\n",
       "      <td>Once Upon a Time... in Hollywood</td>\n",
       "      <td>7.6</td>\n",
       "      <td>83</td>\n",
       "      <td>561,668</td>\n",
       "    </tr>\n",
       "    <tr>\n",
       "      <th>11</th>\n",
       "      <td>Batwoman</td>\n",
       "      <td>3.4</td>\n",
       "      <td>0</td>\n",
       "      <td>32,800</td>\n",
       "    </tr>\n",
       "    <tr>\n",
       "      <th>12</th>\n",
       "      <td>The Bay</td>\n",
       "      <td>7.0</td>\n",
       "      <td>0</td>\n",
       "      <td>4,168</td>\n",
       "    </tr>\n",
       "    <tr>\n",
       "      <th>13</th>\n",
       "      <td>Knives Out</td>\n",
       "      <td>7.9</td>\n",
       "      <td>82</td>\n",
       "      <td>467,431</td>\n",
       "    </tr>\n",
       "    <tr>\n",
       "      <th>14</th>\n",
       "      <td>Sex Education</td>\n",
       "      <td>8.3</td>\n",
       "      <td>0</td>\n",
       "      <td>160,224</td>\n",
       "    </tr>\n",
       "    <tr>\n",
       "      <th>15</th>\n",
       "      <td>The Gentlemen</td>\n",
       "      <td>7.8</td>\n",
       "      <td>0</td>\n",
       "      <td>247,642</td>\n",
       "    </tr>\n",
       "    <tr>\n",
       "      <th>16</th>\n",
       "      <td>ZeroZeroZero</td>\n",
       "      <td>8.2</td>\n",
       "      <td>0</td>\n",
       "      <td>15,146</td>\n",
       "    </tr>\n",
       "    <tr>\n",
       "      <th>17</th>\n",
       "      <td>Joker</td>\n",
       "      <td>8.4</td>\n",
       "      <td>0</td>\n",
       "      <td>956,987</td>\n",
       "    </tr>\n",
       "    <tr>\n",
       "      <th>18</th>\n",
       "      <td>Capitani</td>\n",
       "      <td>6.7</td>\n",
       "      <td>0</td>\n",
       "      <td>1,915</td>\n",
       "    </tr>\n",
       "    <tr>\n",
       "      <th>19</th>\n",
       "      <td>Virgin River</td>\n",
       "      <td>7.5</td>\n",
       "      <td>0</td>\n",
       "      <td>20,539</td>\n",
       "    </tr>\n",
       "    <tr>\n",
       "      <th>20</th>\n",
       "      <td>Chernobyl</td>\n",
       "      <td>9.4</td>\n",
       "      <td>0</td>\n",
       "      <td>547,993</td>\n",
       "    </tr>\n",
       "    <tr>\n",
       "      <th>21</th>\n",
       "      <td>The Morning Show</td>\n",
       "      <td>8.4</td>\n",
       "      <td>0</td>\n",
       "      <td>53,039</td>\n",
       "    </tr>\n",
       "    <tr>\n",
       "      <th>22</th>\n",
       "      <td>Midsommar</td>\n",
       "      <td>7.1</td>\n",
       "      <td>72</td>\n",
       "      <td>205,955</td>\n",
       "    </tr>\n",
       "    <tr>\n",
       "      <th>23</th>\n",
       "      <td>Prodigal Son</td>\n",
       "      <td>7.7</td>\n",
       "      <td>0</td>\n",
       "      <td>13,302</td>\n",
       "    </tr>\n",
       "    <tr>\n",
       "      <th>24</th>\n",
       "      <td>1917</td>\n",
       "      <td>8.3</td>\n",
       "      <td>78</td>\n",
       "      <td>438,483</td>\n",
       "    </tr>\n",
       "    <tr>\n",
       "      <th>25</th>\n",
       "      <td>His Dark Materials</td>\n",
       "      <td>7.9</td>\n",
       "      <td>0</td>\n",
       "      <td>52,606</td>\n",
       "    </tr>\n",
       "    <tr>\n",
       "      <th>26</th>\n",
       "      <td>Spider-Man: Far from Home</td>\n",
       "      <td>7.5</td>\n",
       "      <td>69</td>\n",
       "      <td>329,868</td>\n",
       "    </tr>\n",
       "    <tr>\n",
       "      <th>27</th>\n",
       "      <td>Demon Slayer: Kimetsu No Yaiba</td>\n",
       "      <td>8.7</td>\n",
       "      <td>0</td>\n",
       "      <td>29,658</td>\n",
       "    </tr>\n",
       "    <tr>\n",
       "      <th>28</th>\n",
       "      <td>After</td>\n",
       "      <td>5.3</td>\n",
       "      <td>0</td>\n",
       "      <td>39,586</td>\n",
       "    </tr>\n",
       "    <tr>\n",
       "      <th>29</th>\n",
       "      <td>Warrior</td>\n",
       "      <td>8.3</td>\n",
       "      <td>0</td>\n",
       "      <td>17,646</td>\n",
       "    </tr>\n",
       "    <tr>\n",
       "      <th>30</th>\n",
       "      <td>Gemini Man</td>\n",
       "      <td>5.7</td>\n",
       "      <td>0</td>\n",
       "      <td>88,913</td>\n",
       "    </tr>\n",
       "    <tr>\n",
       "      <th>31</th>\n",
       "      <td>Doom Patrol</td>\n",
       "      <td>7.9</td>\n",
       "      <td>0</td>\n",
       "      <td>34,733</td>\n",
       "    </tr>\n",
       "    <tr>\n",
       "      <th>32</th>\n",
       "      <td>Yakusoku no Neverland</td>\n",
       "      <td>8.7</td>\n",
       "      <td>0</td>\n",
       "      <td>22,492</td>\n",
       "    </tr>\n",
       "    <tr>\n",
       "      <th>33</th>\n",
       "      <td>Jojo Rabbit</td>\n",
       "      <td>7.9</td>\n",
       "      <td>0</td>\n",
       "      <td>304,865</td>\n",
       "    </tr>\n",
       "    <tr>\n",
       "      <th>34</th>\n",
       "      <td>Bombshell</td>\n",
       "      <td>6.8</td>\n",
       "      <td>64</td>\n",
       "      <td>92,398</td>\n",
       "    </tr>\n",
       "    <tr>\n",
       "      <th>35</th>\n",
       "      <td>Saint Maud</td>\n",
       "      <td>6.8</td>\n",
       "      <td>83</td>\n",
       "      <td>10,875</td>\n",
       "    </tr>\n",
       "    <tr>\n",
       "      <th>36</th>\n",
       "      <td>Good Trouble</td>\n",
       "      <td>7.5</td>\n",
       "      <td>0</td>\n",
       "      <td>4,151</td>\n",
       "    </tr>\n",
       "    <tr>\n",
       "      <th>37</th>\n",
       "      <td>Dickinson</td>\n",
       "      <td>7.3</td>\n",
       "      <td>0</td>\n",
       "      <td>6,497</td>\n",
       "    </tr>\n",
       "    <tr>\n",
       "      <th>38</th>\n",
       "      <td>Star Wars: Episode IX - The Rise of Skywalker</td>\n",
       "      <td>6.6</td>\n",
       "      <td>0</td>\n",
       "      <td>379,195</td>\n",
       "    </tr>\n",
       "    <tr>\n",
       "      <th>39</th>\n",
       "      <td>Doctor Sleep</td>\n",
       "      <td>7.3</td>\n",
       "      <td>0</td>\n",
       "      <td>146,657</td>\n",
       "    </tr>\n",
       "    <tr>\n",
       "      <th>40</th>\n",
       "      <td>Little Women</td>\n",
       "      <td>7.8</td>\n",
       "      <td>91</td>\n",
       "      <td>146,948</td>\n",
       "    </tr>\n",
       "    <tr>\n",
       "      <th>41</th>\n",
       "      <td>Watchmen</td>\n",
       "      <td>8.1</td>\n",
       "      <td>0</td>\n",
       "      <td>92,640</td>\n",
       "    </tr>\n",
       "    <tr>\n",
       "      <th>42</th>\n",
       "      <td>The Lighthouse</td>\n",
       "      <td>7.5</td>\n",
       "      <td>83</td>\n",
       "      <td>146,608</td>\n",
       "    </tr>\n",
       "    <tr>\n",
       "      <th>43</th>\n",
       "      <td>Yesterday</td>\n",
       "      <td>6.8</td>\n",
       "      <td>0</td>\n",
       "      <td>116,157</td>\n",
       "    </tr>\n",
       "    <tr>\n",
       "      <th>44</th>\n",
       "      <td>Uncut Gems</td>\n",
       "      <td>7.4</td>\n",
       "      <td>91</td>\n",
       "      <td>225,023</td>\n",
       "    </tr>\n",
       "    <tr>\n",
       "      <th>45</th>\n",
       "      <td>The Irishman</td>\n",
       "      <td>7.9</td>\n",
       "      <td>94</td>\n",
       "      <td>329,307</td>\n",
       "    </tr>\n",
       "    <tr>\n",
       "      <th>46</th>\n",
       "      <td>Godzilla: King of the Monsters</td>\n",
       "      <td>6.0</td>\n",
       "      <td>0</td>\n",
       "      <td>139,584</td>\n",
       "    </tr>\n",
       "    <tr>\n",
       "      <th>47</th>\n",
       "      <td>Dark Phoenix</td>\n",
       "      <td>5.7</td>\n",
       "      <td>0</td>\n",
       "      <td>158,184</td>\n",
       "    </tr>\n",
       "    <tr>\n",
       "      <th>48</th>\n",
       "      <td>Ford v Ferrari</td>\n",
       "      <td>8.1</td>\n",
       "      <td>81</td>\n",
       "      <td>298,299</td>\n",
       "    </tr>\n",
       "    <tr>\n",
       "      <th>49</th>\n",
       "      <td>See</td>\n",
       "      <td>7.6</td>\n",
       "      <td>0</td>\n",
       "      <td>42,486</td>\n",
       "    </tr>\n",
       "  </tbody>\n",
       "</table>\n",
       "</div>"
      ],
      "text/plain": [
       "                                            judul imdbrating metascore  \\\n",
       "0                                 The Mandalorian        8.8         0   \n",
       "1                                 For All Mankind        7.7         0   \n",
       "2                                        The Boys        8.7         0   \n",
       "3                               Avengers: Endgame        8.4        78   \n",
       "4                                     The Witcher        8.2         0   \n",
       "5                                         Servant        7.6         0   \n",
       "6                                  Captain Marvel        6.9        64   \n",
       "7                                  Sound of Metal        7.8        82   \n",
       "8                                        Euphoria        8.4         0   \n",
       "9                                    Gisaengchung        8.6        96   \n",
       "10               Once Upon a Time... in Hollywood        7.6        83   \n",
       "11                                       Batwoman        3.4         0   \n",
       "12                                        The Bay        7.0         0   \n",
       "13                                     Knives Out        7.9        82   \n",
       "14                                  Sex Education        8.3         0   \n",
       "15                                  The Gentlemen        7.8         0   \n",
       "16                                   ZeroZeroZero        8.2         0   \n",
       "17                                          Joker        8.4         0   \n",
       "18                                       Capitani        6.7         0   \n",
       "19                                   Virgin River        7.5         0   \n",
       "20                                      Chernobyl        9.4         0   \n",
       "21                               The Morning Show        8.4         0   \n",
       "22                                      Midsommar        7.1        72   \n",
       "23                                   Prodigal Son        7.7         0   \n",
       "24                                           1917        8.3        78   \n",
       "25                             His Dark Materials        7.9         0   \n",
       "26                      Spider-Man: Far from Home        7.5        69   \n",
       "27                 Demon Slayer: Kimetsu No Yaiba        8.7         0   \n",
       "28                                          After        5.3         0   \n",
       "29                                        Warrior        8.3         0   \n",
       "30                                     Gemini Man        5.7         0   \n",
       "31                                    Doom Patrol        7.9         0   \n",
       "32                          Yakusoku no Neverland        8.7         0   \n",
       "33                                    Jojo Rabbit        7.9         0   \n",
       "34                                      Bombshell        6.8        64   \n",
       "35                                     Saint Maud        6.8        83   \n",
       "36                                   Good Trouble        7.5         0   \n",
       "37                                      Dickinson        7.3         0   \n",
       "38  Star Wars: Episode IX - The Rise of Skywalker        6.6         0   \n",
       "39                                   Doctor Sleep        7.3         0   \n",
       "40                                   Little Women        7.8        91   \n",
       "41                                       Watchmen        8.1         0   \n",
       "42                                 The Lighthouse        7.5        83   \n",
       "43                                      Yesterday        6.8         0   \n",
       "44                                     Uncut Gems        7.4        91   \n",
       "45                                   The Irishman        7.9        94   \n",
       "46                 Godzilla: King of the Monsters        6.0         0   \n",
       "47                                   Dark Phoenix        5.7         0   \n",
       "48                                 Ford v Ferrari        8.1        81   \n",
       "49                                            See        7.6         0   \n",
       "\n",
       "      votes  \n",
       "0   296,248  \n",
       "1    13,806  \n",
       "2   251,306  \n",
       "3   826,727  \n",
       "4   303,118  \n",
       "5    20,217  \n",
       "6   452,154  \n",
       "7    36,942  \n",
       "8    66,204  \n",
       "9   570,768  \n",
       "10  561,668  \n",
       "11   32,800  \n",
       "12    4,168  \n",
       "13  467,431  \n",
       "14  160,224  \n",
       "15  247,642  \n",
       "16   15,146  \n",
       "17  956,987  \n",
       "18    1,915  \n",
       "19   20,539  \n",
       "20  547,993  \n",
       "21   53,039  \n",
       "22  205,955  \n",
       "23   13,302  \n",
       "24  438,483  \n",
       "25   52,606  \n",
       "26  329,868  \n",
       "27   29,658  \n",
       "28   39,586  \n",
       "29   17,646  \n",
       "30   88,913  \n",
       "31   34,733  \n",
       "32   22,492  \n",
       "33  304,865  \n",
       "34   92,398  \n",
       "35   10,875  \n",
       "36    4,151  \n",
       "37    6,497  \n",
       "38  379,195  \n",
       "39  146,657  \n",
       "40  146,948  \n",
       "41   92,640  \n",
       "42  146,608  \n",
       "43  116,157  \n",
       "44  225,023  \n",
       "45  329,307  \n",
       "46  139,584  \n",
       "47  158,184  \n",
       "48  298,299  \n",
       "49   42,486  "
      ]
     },
     "execution_count": 9,
     "metadata": {},
     "output_type": "execute_result"
    }
   ],
   "source": [
    "#Put the array into dataframe\n",
    "\n",
    "import pandas as pd\n",
    "\n",
    "df = pd.DataFrame(temp,columns = ('judul','imdbrating','metascore','votes'))\n",
    "df\n",
    "\n"
   ]
  },
  {
   "cell_type": "code",
   "execution_count": 11,
   "metadata": {
    "ExecuteTime": {
     "end_time": "2021-03-06T07:01:13.175660Z",
     "start_time": "2021-03-06T07:01:13.153586Z"
    }
   },
   "outputs": [
    {
     "data": {
      "text/html": [
       "<div>\n",
       "<style scoped>\n",
       "    .dataframe tbody tr th:only-of-type {\n",
       "        vertical-align: middle;\n",
       "    }\n",
       "\n",
       "    .dataframe tbody tr th {\n",
       "        vertical-align: top;\n",
       "    }\n",
       "\n",
       "    .dataframe thead th {\n",
       "        text-align: right;\n",
       "    }\n",
       "</style>\n",
       "<table border=\"1\" class=\"dataframe\">\n",
       "  <thead>\n",
       "    <tr style=\"text-align: right;\">\n",
       "      <th></th>\n",
       "      <th>judul</th>\n",
       "      <th>imdbrating</th>\n",
       "      <th>metascore</th>\n",
       "      <th>votes</th>\n",
       "    </tr>\n",
       "  </thead>\n",
       "  <tbody>\n",
       "    <tr>\n",
       "      <th>0</th>\n",
       "      <td>The Mandalorian</td>\n",
       "      <td>8.8</td>\n",
       "      <td>0.0</td>\n",
       "      <td>296248</td>\n",
       "    </tr>\n",
       "    <tr>\n",
       "      <th>1</th>\n",
       "      <td>For All Mankind</td>\n",
       "      <td>7.7</td>\n",
       "      <td>0.0</td>\n",
       "      <td>13806</td>\n",
       "    </tr>\n",
       "    <tr>\n",
       "      <th>2</th>\n",
       "      <td>The Boys</td>\n",
       "      <td>8.7</td>\n",
       "      <td>0.0</td>\n",
       "      <td>251306</td>\n",
       "    </tr>\n",
       "    <tr>\n",
       "      <th>3</th>\n",
       "      <td>Avengers: Endgame</td>\n",
       "      <td>8.4</td>\n",
       "      <td>78.0</td>\n",
       "      <td>826727</td>\n",
       "    </tr>\n",
       "    <tr>\n",
       "      <th>4</th>\n",
       "      <td>The Witcher</td>\n",
       "      <td>8.2</td>\n",
       "      <td>0.0</td>\n",
       "      <td>303118</td>\n",
       "    </tr>\n",
       "  </tbody>\n",
       "</table>\n",
       "</div>"
      ],
      "text/plain": [
       "               judul  imdbrating  metascore   votes\n",
       "0    The Mandalorian         8.8        0.0  296248\n",
       "1    For All Mankind         7.7        0.0   13806\n",
       "2           The Boys         8.7        0.0  251306\n",
       "3  Avengers: Endgame         8.4       78.0  826727\n",
       "4        The Witcher         8.2        0.0  303118"
      ]
     },
     "execution_count": 11,
     "metadata": {},
     "output_type": "execute_result"
    }
   ],
   "source": [
    "#cleaning process\n",
    "\n",
    "\n",
    "df['votes']=df['votes'].replace(\",\",\"\",regex=True)\n",
    "df['votes']=df['votes'].astype('int')\n",
    "\n",
    "\n",
    "df['imdbrating']=df['imdbrating'].astype('float64')\n",
    "\n",
    "\n",
    "df['metascore']=df['metascore'].astype('float64')\n",
    "\n",
    "df.head()"
   ]
  },
  {
   "cell_type": "markdown",
   "metadata": {},
   "source": [
    "## Analysis and Conclusion\n",
    "\n",
    "First you can do start with making the data visualisation. "
   ]
  },
  {
   "cell_type": "code",
   "execution_count": 29,
   "metadata": {
    "ExecuteTime": {
     "end_time": "2021-03-06T07:14:49.026397Z",
     "start_time": "2021-03-06T07:14:48.768829Z"
    }
   },
   "outputs": [
    {
     "data": {
      "text/plain": [
       "<AxesSubplot:title={'center':'Top 10 shows votes di IMDB dengan di 2019'}, xlabel='Judul', ylabel='Jumlah Votes'>"
      ]
     },
     "execution_count": 29,
     "metadata": {},
     "output_type": "execute_result"
    },
    {
     "data": {
      "image/png": "[encoded data removed]",
      "text/plain": [
       "<Figure size 432x288 with 1 Axes>"
      ]
     },
     "metadata": {
      "needs_background": "light"
     },
     "output_type": "display_data"
    }
   ],
   "source": [
    "#subset to the most votes show in 2019 in IMDB\n",
    "\n",
    "imdbvotes = df.loc[:,['judul','votes']].set_index('judul')\n",
    "imdbvotes = imdbvotes.sort_values(by='votes',ascending=False).head(10)\n",
    "imdbvotes.plot(kind='bar',xlabel='Judul',ylabel='Jumlah Votes',title='Top 10 shows votes di IMDB dengan di 2019',ylim=(20000,1500000))"
   ]
  },
  {
   "cell_type": "markdown",
   "metadata": {
    "ExecuteTime": {
     "end_time": "2021-03-04T18:17:25.756221Z",
     "start_time": "2021-03-04T18:17:25.746631Z"
    }
   },
   "source": [
    "We can see that Joker is the winner of top votes show in 2019 with more tha >800,000 votes. It was so popular in 2019!\n"
   ]
  },
  {
   "cell_type": "code",
   "execution_count": 31,
   "metadata": {
    "ExecuteTime": {
     "end_time": "2021-03-06T07:16:16.385266Z",
     "start_time": "2021-03-06T07:16:16.079656Z"
    },
    "scrolled": true
   },
   "outputs": [
    {
     "data": {
      "text/plain": [
       "<AxesSubplot:title={'center':'Top 10 shows best rate di IMDB dengan di 2019'}, xlabel='Judul', ylabel='IMDB Rating'>"
      ]
     },
     "execution_count": 31,
     "metadata": {},
     "output_type": "execute_result"
    },
    {
     "data": {
      "image/png": "[encoded data removed]",
      "text/plain": [
       "<Figure size 432x288 with 1 Axes>"
      ]
     },
     "metadata": {
      "needs_background": "light"
     },
     "output_type": "display_data"
    }
   ],
   "source": [
    "#visualisasi grafik ke dua\n",
    "\n",
    "imdbrate = df.loc[:,['judul','imdbrating']].set_index('judul')\n",
    "imdbrate =imdbrate.sort_values(by='imdbrating',ascending=False).head(10)\n",
    "imdbrate.plot(kind='bar',xlabel='Judul',ylabel='IMDB Rating',title='Top 10 shows best rate di IMDB dengan di 2019', ylim=(6,10))"
   ]
  },
  {
   "cell_type": "markdown",
   "metadata": {},
   "source": [
    "We can see that Chernobyl is the best rating show in 2019. It wons the heart of the viewers and critics!"
   ]
  }
 ],
 "metadata": {
  "kernelspec": {
   "display_name": "data-analytics",
   "language": "python",
   "name": "data-analytics"
  },
  "language_info": {
   "codemirror_mode": {
    "name": "ipython",
    "version": 3
   },
   "file_extension": ".py",
   "mimetype": "text/x-python",
   "name": "python",
   "nbconvert_exporter": "python",
   "pygments_lexer": "ipython3",
   "version": "3.8.5"
  },
  "toc": {
   "base_numbering": 1,
   "nav_menu": {},
   "number_sections": true,
   "sideBar": true,
   "skip_h1_title": false,
   "title_cell": "Table of Contents",
   "title_sidebar": "Contents",
   "toc_cell": false,
   "toc_position": {},
   "toc_section_display": true,
   "toc_window_display": false
  }
 },
 "nbformat": 4,
 "nbformat_minor": 2
}
